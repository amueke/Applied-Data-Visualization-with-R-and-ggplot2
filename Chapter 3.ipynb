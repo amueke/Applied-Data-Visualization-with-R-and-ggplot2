{
  "cells": [
    {
      "cell_type": "markdown",
      "metadata": {
        "id": "view-in-github",
        "colab_type": "text"
      },
      "source": [
        "<a href=\"https://colab.research.google.com/github/amueke/Applied-Data-Visualization-with-R-and-ggplot2/blob/master/Chapter%203.ipynb\" target=\"_parent\"><img src=\"https://colab.research.google.com/assets/colab-badge.svg\" alt=\"Open In Colab\"/></a>"
      ]
    },
    {
      "cell_type": "code",
      "source": [
        "import tensorflow as tf\n",
        "x = tf.constant([1, 2, 3])\n",
        "print(x)\n",
        "print(x.shape)\n",
        "print(x.dtype)"
      ],
      "metadata": {
        "id": "9ugUiO6ppl9w",
        "outputId": "972a7dbd-c770-4b43-e66a-869b4c493785",
        "colab": {
          "base_uri": "https://localhost:8080/"
        }
      },
      "execution_count": 1,
      "outputs": [
        {
          "output_type": "stream",
          "name": "stdout",
          "text": [
            "tf.Tensor([1 2 3], shape=(3,), dtype=int32)\n",
            "(3,)\n",
            "<dtype: 'int32'>\n"
          ]
        }
      ]
    },
    {
      "cell_type": "code",
      "source": [
        "import tensorflow as tf\n",
        "x = tf.Variable([1, 2, 3])\n",
        "print(x)\n",
        "print(x.shape)\n",
        "print(x.dtype)"
      ],
      "metadata": {
        "id": "0kON4CTIp_Yj",
        "outputId": "430cb396-4800-42e6-ef40-3918ec4e1fe3",
        "colab": {
          "base_uri": "https://localhost:8080/"
        }
      },
      "execution_count": 2,
      "outputs": [
        {
          "output_type": "stream",
          "name": "stdout",
          "text": [
            "<tf.Variable 'Variable:0' shape=(3,) dtype=int32, numpy=array([1, 2, 3], dtype=int32)>\n",
            "(3,)\n",
            "<dtype: 'int32'>\n"
          ]
        }
      ]
    },
    {
      "cell_type": "code",
      "source": [
        "import tensorflow as tf\n",
        "x = tf.Variable(3.6)\n",
        "with tf.GradientTape() as tape:\n",
        "     y=x*x\n",
        "dy = tape.gradient(y, x)\n",
        "print(dy)"
      ],
      "metadata": {
        "id": "cKl_n7uMqNRd",
        "outputId": "ba719db5-e5f7-44d5-84a5-b4f559c5ac2b",
        "colab": {
          "base_uri": "https://localhost:8080/"
        }
      },
      "execution_count": 7,
      "outputs": [
        {
          "output_type": "stream",
          "name": "stdout",
          "text": [
            "tf.Tensor(7.2, shape=(), dtype=float32)\n"
          ]
        }
      ]
    },
    {
      "cell_type": "code",
      "source": [],
      "metadata": {
        "id": "ZTQkzgmxrqo2"
      },
      "execution_count": null,
      "outputs": []
    },
    {
      "cell_type": "code",
      "source": [
        "import numpy as np\n",
        "polynomial = np.poly1d([1, 2, 3])\n",
        "print(polynomial)"
      ],
      "metadata": {
        "id": "KETAJZlirDQb",
        "outputId": "496f85e2-0186-4193-c6eb-eb3e62b4b871",
        "colab": {
          "base_uri": "https://localhost:8080/"
        }
      },
      "execution_count": 8,
      "outputs": [
        {
          "output_type": "stream",
          "name": "stdout",
          "text": [
            "   2\n",
            "1 x + 2 x + 3\n"
          ]
        }
      ]
    },
    {
      "cell_type": "code",
      "source": [
        "print(polynomial(1.5))"
      ],
      "metadata": {
        "id": "CibRRc-MrN9i",
        "outputId": "78cf6f60-91d8-4695-cec1-2f3eacaf4b0d",
        "colab": {
          "base_uri": "https://localhost:8080/"
        }
      },
      "execution_count": 9,
      "outputs": [
        {
          "output_type": "stream",
          "name": "stdout",
          "text": [
            "8.25\n"
          ]
        }
      ]
    },
    {
      "cell_type": "code",
      "source": [
        "N = 20 # number of samples\n",
        "# Generate random samples between -10 to +10\n",
        "X = np.random.uniform(-10, 10, size=(N,1))\n",
        "Y = polynomial(X)"
      ],
      "metadata": {
        "id": "ehbtwjpkrWxg"
      },
      "execution_count": 10,
      "outputs": []
    },
    {
      "cell_type": "code",
      "source": [
        "import tensorflow as tf\n",
        "# Assume samples X and Y are prepared elsewhere\n",
        "XX = np.hstack([X*X, X, np.ones_like(X)])\n",
        "w = tf.Variable(tf.random.normal((3,1))) # the 3 coefficients\n",
        "x = tf.constant(XX, dtype=tf.float32) # input sample\n",
        "y = tf.constant(Y, dtype=tf.float32) # output sample\n",
        "optimizer = tf.keras.optimizers.Nadam(learning_rate=0.01)\n",
        "print(w)\n",
        "for _ in range(1000):\n",
        "    with tf.GradientTape() as tape:\n",
        "        y_pred = x @ w\n",
        "        mse = tf.reduce_sum(tf.square(y - y_pred))\n",
        "    grad = tape.gradient(mse, w)\n",
        "    optimizer.apply_gradients([(grad, w)])\n",
        "print(w)"
      ],
      "metadata": {
        "id": "MC0NWymCrs9-",
        "outputId": "23b12fdd-6e9e-4c86-e2c3-faee295cfbfd",
        "colab": {
          "base_uri": "https://localhost:8080/"
        }
      },
      "execution_count": 12,
      "outputs": [
        {
          "output_type": "stream",
          "name": "stdout",
          "text": [
            "<tf.Variable 'Variable:0' shape=(3, 1) dtype=float32, numpy=\n",
            "array([[ 0.34049302],\n",
            "       [-0.6413548 ],\n",
            "       [ 0.6358653 ]], dtype=float32)>\n",
            "<tf.Variable 'Variable:0' shape=(3, 1) dtype=float32, numpy=\n",
            "array([[1.0164412],\n",
            "       [1.9933577],\n",
            "       [1.9637996]], dtype=float32)>\n"
          ]
        }
      ]
    },
    {
      "cell_type": "code",
      "source": [
        "import numpy as np\n",
        "import tensorflow as tf\n",
        "N = 20 # number of samples\n",
        "# Generate random samples between -10 to +10\n",
        "polynomial = np.poly1d([1, 2, 3])\n",
        "X = np.random.uniform(-10, 10, size=(N,1))\n",
        "Y = polynomial(X)\n",
        "# Prepare input as an array of shape (N,3)\n",
        "XX = np.hstack([X*X, X, np.ones_like(X)])\n",
        "# Prepare TensorFlow objects\n",
        "w = tf.Variable(tf.random.normal((3,1))) # the 3 coefficients\n",
        "x = tf.constant(XX, dtype=tf.float32) # input sample\n",
        "y = tf.constant(Y, dtype=tf.float32) # output sample\n",
        "optimizer = tf.keras.optimizers.Nadam(learning_rate=0.01)\n",
        "print(w)\n",
        "# Run optimizer\n",
        "for _ in range(1000):\n",
        "    with tf.GradientTape() as tape:\n",
        "        y_pred = x @ w\n",
        "        mse = tf.reduce_sum(tf.square(y - y_pred))\n",
        "    grad = tape.gradient(mse, w)\n",
        "    optimizer.apply_gradients([(grad, w)])\n",
        "print(w)"
      ],
      "metadata": {
        "id": "m2RcSOoisdIb",
        "outputId": "6da888d3-64c9-46f7-8f47-041af4216194",
        "colab": {
          "base_uri": "https://localhost:8080/"
        }
      },
      "execution_count": 20,
      "outputs": [
        {
          "output_type": "stream",
          "name": "stdout",
          "text": [
            "<tf.Variable 'Variable:0' shape=(3, 1) dtype=float32, numpy=\n",
            "array([[0.6474902],\n",
            "       [0.3808592],\n",
            "       [0.6274031]], dtype=float32)>\n",
            "<tf.Variable 'Variable:0' shape=(3, 1) dtype=float32, numpy=\n",
            "array([[1.0079265],\n",
            "       [1.9986746],\n",
            "       [2.4602168]], dtype=float32)>\n"
          ]
        }
      ]
    },
    {
      "cell_type": "code",
      "source": [
        "import tensorflow as tf\n",
        "import random\n",
        "A = tf.Variable(random.random())\n",
        "B = tf.Variable(random.random())\n",
        "C = tf.Variable(random.random())\n",
        "D = tf.Variable(random.random())\n",
        "# Gradient descent loop\n",
        "EPOCHS = 1000\n",
        "optimizer = tf.keras.optimizers.Nadam(learning_rate=0.1)\n",
        "for _ in range(EPOCHS):\n",
        "    with tf.GradientTape() as tape:\n",
        "        y1 = A + B - 8\n",
        "        y2 = C - D - 6\n",
        "        y3 = A + C - 13\n",
        "        y4 = B + D - 8\n",
        "        sqerr = y1*y1 + y2*y2 + y3*y3 + y4*y4\n",
        "    gradA, gradB, gradC, gradD = tape.gradient(sqerr, [A, B, C, D])\n",
        "    optimizer.apply_gradients([(gradA, A), (gradB, B), (gradC, C), (gradD, D)])\n",
        "print(A)\n",
        "print(B)\n",
        "print(C)\n",
        "print(D)"
      ],
      "metadata": {
        "id": "qTLEw7MDtclO",
        "outputId": "b49a4f1b-1a4c-4db0-ef2c-abee4952eadd",
        "colab": {
          "base_uri": "https://localhost:8080/"
        }
      },
      "execution_count": 24,
      "outputs": [
        {
          "output_type": "stream",
          "name": "stdout",
          "text": [
            "<tf.Variable 'Variable:0' shape=() dtype=float32, numpy=3.5000088>\n",
            "<tf.Variable 'Variable:0' shape=() dtype=float32, numpy=4.4999957>\n",
            "<tf.Variable 'Variable:0' shape=() dtype=float32, numpy=9.499989>\n",
            "<tf.Variable 'Variable:0' shape=() dtype=float32, numpy=3.4999964>\n"
          ]
        }
      ]
    }
  ],
  "metadata": {
    "accelerator": "GPU",
    "colab": {
      "provenance": [],
      "machine_shape": "hm",
      "include_colab_link": true
    },
    "gpuClass": "standard",
    "kernelspec": {
      "display_name": "Python 3",
      "name": "python3"
    },
    "language_info": {
      "name": "python"
    }
  },
  "nbformat": 4,
  "nbformat_minor": 0
}